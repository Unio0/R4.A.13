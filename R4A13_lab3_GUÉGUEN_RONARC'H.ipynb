{
  "cells": [
    {
      "cell_type": "markdown",
      "metadata": {
        "id": "CuErVRvSQf4F"
      },
      "source": [
        "# Lab3 - AI - Convolutional Neural networks for image recognition\n",
        "\n",
        "**R4.A.13 - BUT2 - IUT Vannes**\n"
      ]
    },
    {
      "cell_type": "markdown",
      "metadata": {
        "collapsed": true,
        "id": "UsvsNDplQf4G"
      },
      "source": [
        "## Introduction"
      ]
    },
    {
      "cell_type": "markdown",
      "metadata": {
        "id": "YxOOiyrUGFBv"
      },
      "source": [
        "**Setting up the environment**\n"
      ]
    },
    {
      "cell_type": "code",
      "execution_count": 17,
      "metadata": {
        "colab": {
          "base_uri": "https://localhost:8080/"
        },
        "id": "BH7cvRHzGJG6",
        "outputId": "88f6fc6b-469b-4083-ef34-aecd5613c7be"
      },
      "outputs": [
        {
          "output_type": "stream",
          "name": "stdout",
          "text": [
            "cuda\n"
          ]
        }
      ],
      "source": [
        "# Import required packages from Pytorch\n",
        "import torch\n",
        "from torch import nn\n",
        "from torch import optim\n",
        "import torch.nn.functional as F\n",
        "\n",
        "# fix random seed for reproducibility\n",
        "import numpy as np\n",
        "np.random.seed(7)\n",
        "\n",
        "# moves your model to train on your gpu if available else it uses your cpu\n",
        "device = (\"cuda\" if torch.cuda.is_available() else \"cpu\")\n",
        "print(device)\n"
      ]
    },
    {
      "cell_type": "code",
      "execution_count": 18,
      "metadata": {
        "colab": {
          "base_uri": "https://localhost:8080/"
        },
        "id": "yZlQXmLdfy6M",
        "outputId": "083cc2a6-62f4-4972-ee76-e6f3ef37248f"
      },
      "outputs": [
        {
          "output_type": "stream",
          "name": "stdout",
          "text": [
            "Fri May 31 07:56:48 2024       \n",
            "+---------------------------------------------------------------------------------------+\n",
            "| NVIDIA-SMI 535.104.05             Driver Version: 535.104.05   CUDA Version: 12.2     |\n",
            "|-----------------------------------------+----------------------+----------------------+\n",
            "| GPU  Name                 Persistence-M | Bus-Id        Disp.A | Volatile Uncorr. ECC |\n",
            "| Fan  Temp   Perf          Pwr:Usage/Cap |         Memory-Usage | GPU-Util  Compute M. |\n",
            "|                                         |                      |               MIG M. |\n",
            "|=========================================+======================+======================|\n",
            "|   0  Tesla T4                       Off | 00000000:00:04.0 Off |                    0 |\n",
            "| N/A   75C    P0              35W /  70W |   2635MiB / 15360MiB |      0%      Default |\n",
            "|                                         |                      |                  N/A |\n",
            "+-----------------------------------------+----------------------+----------------------+\n",
            "                                                                                         \n",
            "+---------------------------------------------------------------------------------------+\n",
            "| Processes:                                                                            |\n",
            "|  GPU   GI   CI        PID   Type   Process name                            GPU Memory |\n",
            "|        ID   ID                                                             Usage      |\n",
            "|=======================================================================================|\n",
            "+---------------------------------------------------------------------------------------+\n"
          ]
        }
      ],
      "source": [
        "# what is your GPU ?\n",
        "!nvidia-smi"
      ]
    },
    {
      "cell_type": "markdown",
      "metadata": {
        "id": "2h4aaIDYRKdw"
      },
      "source": [
        "##  CNNs for Cifar10 - training from scratch\n",
        "\n",
        "Now let's build CNN models to work on the CIFAR10 dataset.\n",
        "\n",
        "Try to reach the best performance on validation by designing other CNNs."
      ]
    },
    {
      "cell_type": "code",
      "execution_count": 19,
      "metadata": {
        "colab": {
          "base_uri": "https://localhost:8080/"
        },
        "id": "3UybBwbZRtMI",
        "outputId": "1efa54ed-a318-4d08-fa67-c114f6e2e2a2"
      },
      "outputs": [
        {
          "output_type": "stream",
          "name": "stdout",
          "text": [
            "Files already downloaded and verified\n",
            "Files already downloaded and verified\n"
          ]
        }
      ],
      "source": [
        "import torch\n",
        "from torchvision import datasets, transforms\n",
        "\n",
        "# Define transform to normalize data\n",
        "\n",
        "transform = transforms.Compose(\n",
        "    [transforms.ToTensor(),\n",
        "     transforms.Normalize((0.5, 0.5, 0.5), (0.5, 0.5, 0.5))])\n",
        "\n",
        "# Download and load the training data and the validation (test) data\n",
        "train_set = datasets.CIFAR10('DATA_CIFAR/', download=True, train=True, transform=transform)\n",
        "trainLoader = torch.utils.data.DataLoader(train_set, batch_size=64, shuffle=True)\n",
        "\n",
        "validation_set = datasets.CIFAR10('DATA_CIFAR/', download=True, train=False, transform=transform)\n",
        "validationLoader = torch.utils.data.DataLoader(validation_set, batch_size=64, shuffle=True)"
      ]
    },
    {
      "cell_type": "code",
      "execution_count": 20,
      "metadata": {
        "colab": {
          "base_uri": "https://localhost:8080/"
        },
        "id": "cHimJm7oSl--",
        "outputId": "e7507366-0c45-4750-de72-101de1211bd4"
      },
      "outputs": [
        {
          "output_type": "stream",
          "name": "stdout",
          "text": [
            "Train size :  50000\n",
            "validation size :  10000\n"
          ]
        }
      ],
      "source": [
        "# show the training size, test size, number of class\n",
        "print(\"Train size : \", len(train_set))\n",
        "print(\"validation size : \", len(validation_set))"
      ]
    },
    {
      "cell_type": "code",
      "execution_count": 21,
      "metadata": {
        "colab": {
          "base_uri": "https://localhost:8080/"
        },
        "id": "8HYarKvLSoCb",
        "outputId": "13358afb-d5a9-4868-c78a-2dfa2d2ba2d1"
      },
      "outputs": [
        {
          "output_type": "stream",
          "name": "stdout",
          "text": [
            "torch.Size([64, 3, 32, 32])\n",
            "torch.Size([64])\n"
          ]
        }
      ],
      "source": [
        "# check the size of the image tensors and label tensors\n",
        "training_data = enumerate(trainLoader)\n",
        "batch_idx, (images, labels) = next(training_data)\n",
        "\n",
        "print(images.shape) # the size of the image\n",
        "print(labels.shape) # the size of the labels"
      ]
    },
    {
      "cell_type": "code",
      "execution_count": 22,
      "metadata": {
        "colab": {
          "base_uri": "https://localhost:8080/",
          "height": 428
        },
        "id": "rbTSjdJ_SrFV",
        "outputId": "5c0e1919-ba12-4d6d-c759-5889d22142d4"
      },
      "outputs": [
        {
          "output_type": "display_data",
          "data": {
            "text/plain": [
              "<Figure size 640x480 with 12 Axes>"
            ],
            "image/png": "[encoded data removed]"
          },
          "metadata": {}
        }
      ],
      "source": [
        "# Display some image samples using matplotlib.pyplot\n",
        "import matplotlib.pyplot as plt\n",
        "%matplotlib inline\n",
        "\n",
        "for i in range(0,12):\n",
        "    plt.subplot(3, 4, i+1)\n",
        "    plt.imshow((images[i]/ 2 + 0.5).permute(1,2,0).numpy()); plt.axis('off') # (img/2+0.5) is just to unnormalize the image\n",
        "    plt.title(\"label: \" + str(labels[i].numpy().squeeze()))"
      ]
    },
    {
      "cell_type": "code",
      "execution_count": 24,
      "metadata": {
        "id": "5mxLam5OyRa5"
      },
      "outputs": [],
      "source": [
        "class CNN_cifar(nn.Module):\n",
        "    def __init__(self):\n",
        "        super().__init__()\n",
        "        self.conv1 = nn.Conv2d(\n",
        "            in_channels=3,        # different from Mnist car ce sont les images couleur\n",
        "            out_channels=32,\n",
        "            kernel_size=5,\n",
        "            stride=1,\n",
        "            padding=2\n",
        "        )\n",
        "        self.pool = nn.MaxPool2d(2, 2)\n",
        "        self.conv2 = nn.Conv2d(32, 64, 5, 1, 2)\n",
        "        self.pool = nn.MaxPool2d(2,2)\n",
        "        self.fc1 = nn.Linear(64 * 8 * 8, 128) # different from Mnist since the size of image is 32*32*3\n",
        "        self.fc2 = nn.Linear(128, 10)\n",
        "\n",
        "    def forward(self, x):\n",
        "        x = self.pool(F.relu(self.conv1(x)))\n",
        "        x = self.pool(F.relu(self.conv2(x)))\n",
        "        x = torch.flatten(x, 1)\n",
        "        x = F.relu(self.fc1(x))\n",
        "        x = self.fc2(x)\n",
        "        return x"
      ]
    },
    {
      "cell_type": "code",
      "execution_count": 25,
      "metadata": {
        "colab": {
          "base_uri": "https://localhost:8080/"
        },
        "id": "7UtjlAvZUO2N",
        "outputId": "53e3cd72-d832-4fb2-c468-41b7609a451b"
      },
      "outputs": [
        {
          "output_type": "stream",
          "name": "stdout",
          "text": [
            "579402\n"
          ]
        }
      ],
      "source": [
        "model = CNN_cifar()\n",
        "model.to(device)\n",
        "# print number of total trainable parameters\n",
        "total_trainable_params = sum(p.numel() for p in model.parameters() if p.requires_grad)\n",
        "print(total_trainable_params )"
      ]
    },
    {
      "cell_type": "code",
      "execution_count": 27,
      "metadata": {
        "id": "RlqaP7_FUWpu"
      },
      "outputs": [],
      "source": [
        "optimizer = optim.SGD(model.parameters(), lr=0.003)\n",
        "criterion = nn.CrossEntropyLoss()"
      ]
    },
    {
      "cell_type": "code",
      "execution_count": null,
      "metadata": {
        "colab": {
          "base_uri": "https://localhost:8080/"
        },
        "id": "pXb3v8o4UZ-U",
        "outputId": "f36dd11b-f4a4-4092-c540-8faae6b08ddc"
      },
      "outputs": [
        {
          "output_type": "stream",
          "name": "stdout",
          "text": [
            "Epoch: 0/25   Training loss: 1.0226   Validation loss: 1.0751   Train accuracy: 0.6427   Validation accuracy: 0.6212  \n",
            "Epoch: 1/25   Training loss: 1.0014   Validation loss: 1.1366   Train accuracy: 0.6485   Validation accuracy: 0.5937  \n",
            "Epoch: 2/25   Training loss: 0.9833   Validation loss: 1.1114   Train accuracy: 0.6547   Validation accuracy: 0.6019  \n",
            "Epoch: 3/25   Training loss: 0.9637   Validation loss: 1.0630   Train accuracy: 0.6639   Validation accuracy: 0.6289  \n",
            "Epoch: 4/25   Training loss: 0.9445   Validation loss: 1.0538   Train accuracy: 0.6705   Validation accuracy: 0.6275  \n",
            "Epoch: 5/25   Training loss: 0.9262   Validation loss: 1.0312   Train accuracy: 0.6754   Validation accuracy: 0.6364  \n",
            "Epoch: 6/25   Training loss: 0.9100   Validation loss: 1.0764   Train accuracy: 0.6853   Validation accuracy: 0.6226  \n",
            "Epoch: 7/25   Training loss: 0.8941   Validation loss: 1.0126   Train accuracy: 0.6866   Validation accuracy: 0.6460  \n",
            "Epoch: 8/25   Training loss: 0.8773   Validation loss: 0.9594   Train accuracy: 0.6962   Validation accuracy: 0.6646  \n",
            "Epoch: 9/25   Training loss: 0.8634   Validation loss: 0.9680   Train accuracy: 0.7004   Validation accuracy: 0.6657  \n",
            "Epoch: 10/25   Training loss: 0.8478   Validation loss: 1.0486   Train accuracy: 0.7065   Validation accuracy: 0.6319  \n",
            "Epoch: 11/25   Training loss: 0.8327   Validation loss: 0.9696   Train accuracy: 0.7116   Validation accuracy: 0.6600  \n",
            "Epoch: 12/25   Training loss: 0.8192   Validation loss: 0.9538   Train accuracy: 0.7161   Validation accuracy: 0.6696  \n"
          ]
        }
      ],
      "source": [
        "import time\n",
        "\n",
        "epochs = 25\n",
        "train_loss, val_loss = [], []\n",
        "accuracy_total_train, accuracy_total_val = [], []\n",
        "\n",
        "start_time_scratch_train = time.time()\n",
        "\n",
        "for epoch in range(epochs):\n",
        "\n",
        "    total_train_loss = 0\n",
        "    total_val_loss = 0\n",
        "\n",
        "    model.train()\n",
        "\n",
        "    total = 0\n",
        "\n",
        "    # training our model\n",
        "    for idx, (image, label) in enumerate(trainLoader):\n",
        "\n",
        "        image, label = image.to(device), label.to(device)\n",
        "\n",
        "        optimizer.zero_grad()\n",
        "\n",
        "        pred = model(image)\n",
        "\n",
        "        loss = criterion(pred, label)\n",
        "        total_train_loss += loss.item()\n",
        "\n",
        "        loss.backward()\n",
        "        optimizer.step()\n",
        "\n",
        "        pred = torch.nn.functional.softmax(pred, dim=1)\n",
        "        for i, p in enumerate(pred):\n",
        "            if label[i] == torch.max(p.data, 0)[1]:\n",
        "                total = total + 1\n",
        "\n",
        "    accuracy_train = total / len(train_set)\n",
        "    accuracy_total_train.append(accuracy_train)\n",
        "\n",
        "    total_train_loss = total_train_loss / (idx + 1)\n",
        "    train_loss.append(total_train_loss)\n",
        "\n",
        "    # validating our model\n",
        "    model.eval()\n",
        "    total = 0\n",
        "    for idx, (image, label) in enumerate(validationLoader):\n",
        "        image, label = image.to(device), label.to(device)\n",
        "        pred = model(image)\n",
        "        loss = criterion(pred, label)\n",
        "        total_val_loss += loss.item()\n",
        "\n",
        "        pred = torch.nn.functional.softmax(pred, dim=1)\n",
        "        for i, p in enumerate(pred):\n",
        "            if label[i] == torch.max(p.data, 0)[1]:\n",
        "                total = total + 1\n",
        "\n",
        "    accuracy_val = total / len(validation_set)\n",
        "    accuracy_total_val.append(accuracy_val)\n",
        "\n",
        "    total_val_loss = total_val_loss / (idx + 1)\n",
        "    val_loss.append(total_val_loss)\n",
        "\n",
        "\n",
        "    print(\"Epoch: {}/{}  \".format(epoch, epochs),\n",
        "          \"Training loss: {:.4f}  \".format(total_train_loss),\n",
        "          \"Validation loss: {:.4f}  \".format(total_val_loss),\n",
        "          \"Train accuracy: {:.4f}  \".format(accuracy_train),\n",
        "          \"Validation accuracy: {:.4f}  \".format(accuracy_val))\n",
        "\n",
        "end_time_scratch_train = time.time()\n",
        "time_scratch_train = end_time_scratch_train - start_time_scratch_train\n",
        "accuracy_scratch = accuracy_total_val[-1]*100\n",
        "epochs_scratch = epochs\n"
      ]
    },
    {
      "cell_type": "code",
      "execution_count": 29,
      "metadata": {
        "colab": {
          "base_uri": "https://localhost:8080/",
          "height": 469
        },
        "id": "2LvMM2euUdVV",
        "outputId": "b11ddf79-f4da-4e2b-ab6d-0962dc019727"
      },
      "outputs": [
        {
          "output_type": "execute_result",
          "data": {
            "text/plain": [
              "Text(0.5, 1.0, 'Train and validation losses - Cifar10')"
            ]
          },
          "metadata": {},
          "execution_count": 29
        },
        {
          "output_type": "display_data",
          "data": {
            "text/plain": [
              "<Figure size 640x480 with 1 Axes>"
            ],
            "image/png": "[encoded data removed]"
          },
          "metadata": {}
        }
      ],
      "source": [
        "# plot the loss curves\n",
        "plt.plot(train_loss, label='Training loss')\n",
        "plt.plot(val_loss, label='Validation loss')\n",
        "plt.legend()\n",
        "plt.grid()\n",
        "plt.title('Train and validation losses - Cifar10')"
      ]
    },
    {
      "cell_type": "code",
      "execution_count": 30,
      "metadata": {
        "colab": {
          "base_uri": "https://localhost:8080/",
          "height": 469
        },
        "id": "KT5wqbadUu-C",
        "outputId": "4420bad7-3980-445d-9844-bad196dd7b52"
      },
      "outputs": [
        {
          "output_type": "execute_result",
          "data": {
            "text/plain": [
              "Text(0.5, 1.0, 'Train and validation accuracies - cifar10')"
            ]
          },
          "metadata": {},
          "execution_count": 30
        },
        {
          "output_type": "display_data",
          "data": {
            "text/plain": [
              "<Figure size 640x480 with 1 Axes>"
            ],
            "image/png": "[encoded data removed]"
          },
          "metadata": {}
        }
      ],
      "source": [
        "# plot the accuracy curves\n",
        "plt.plot(accuracy_total_train, label='Training Accuracy')\n",
        "plt.plot(accuracy_total_val, label='Validation Accuracy')\n",
        "plt.legend()\n",
        "plt.grid()\n",
        "plt.title('Train and validation accuracies - cifar10')"
      ]
    },
    {
      "cell_type": "markdown",
      "metadata": {
        "id": "vMAJCwYdyWmK"
      },
      "source": [
        "## Transfer learning with pre-trained networks"
      ]
    },
    {
      "cell_type": "code",
      "execution_count": null,
      "metadata": {
        "colab": {
          "base_uri": "https://localhost:8080/"
        },
        "id": "XDZCWJMKyVtZ",
        "outputId": "7aafb5ea-9d5f-4b70-cc27-fd0ccf90f719"
      },
      "outputs": [
        {
          "name": "stdout",
          "output_type": "stream",
          "text": [
            "Files already downloaded and verified\n",
            "Files already downloaded and verified\n"
          ]
        }
      ],
      "source": [
        "import torch\n",
        "from torchvision import datasets, transforms\n",
        "\n",
        "# Define transform to normalize data\n",
        "\n",
        "transform = transforms.Compose(\n",
        "    [transforms.ToTensor(),\n",
        "     transforms.Resize(224),\n",
        "     transforms.Normalize([0.485, 0.456, 0.406], [0.229, 0.224, 0.225])])\n",
        "\n",
        "# Download and load the training data and the validation (test) data\n",
        "train_set = datasets.CIFAR10('DATA_CIFAR/', download=True, train=True, transform=transform)\n",
        "trainLoader = torch.utils.data.DataLoader(train_set, batch_size=64, shuffle=True)\n",
        "\n",
        "validation_set = datasets.CIFAR10('DATA_CIFAR/', download=True, train=False, transform=transform)\n",
        "validationLoader = torch.utils.data.DataLoader(validation_set, batch_size=64, shuffle=True)"
      ]
    },
    {
      "cell_type": "markdown",
      "source": [
        "# CNNs for Cifar10 - training from CNN(1,2) (feat_extract, fine_tuning)"
      ],
      "metadata": {
        "id": "5Qct0m-deFP0"
      }
    },
    {
      "cell_type": "code",
      "execution_count": 1,
      "metadata": {
        "id": "xUtHJsIda2Id",
        "outputId": "fc55f256-4d40-4530-d87b-c7f322df8683",
        "colab": {
          "base_uri": "https://localhost:8080/"
        }
      },
      "outputs": [
        {
          "output_type": "stream",
          "name": "stdout",
          "text": [
            "Downloading https://www.cs.toronto.edu/~kriz/cifar-10-python.tar.gz to ./data/cifar-10-python.tar.gz\n"
          ]
        },
        {
          "output_type": "stream",
          "name": "stderr",
          "text": [
            "100%|██████████| 170498071/170498071 [00:13<00:00, 12936694.93it/s]\n"
          ]
        },
        {
          "output_type": "stream",
          "name": "stdout",
          "text": [
            "Extracting ./data/cifar-10-python.tar.gz to ./data\n",
            "Files already downloaded and verified\n"
          ]
        }
      ],
      "source": [
        "import torch\n",
        "import torchvision\n",
        "import torchvision.transforms as transforms\n",
        "import torch.nn as nn\n",
        "import torch.optim as optim\n",
        "from torch.optim import lr_scheduler\n",
        "import time\n",
        "from torchvision import models\n",
        "import pandas as pd\n",
        "\n",
        "# Préparation des Données CIFAR-10\n",
        "transform_train = transforms.Compose([\n",
        "    transforms.RandomCrop(32, padding=4),\n",
        "    transforms.RandomHorizontalFlip(),\n",
        "    transforms.ToTensor(),\n",
        "    transforms.Normalize((0.4914, 0.4822, 0.4465), (0.2023, 0.1994, 0.2010)),\n",
        "])\n",
        "\n",
        "transform_test = transforms.Compose([\n",
        "    transforms.ToTensor(),\n",
        "    transforms.Normalize((0.4914, 0.4822, 0.4465), (0.2023, 0.1994, 0.2010)),\n",
        "])\n",
        "\n",
        "trainset = torchvision.datasets.CIFAR10(root='./data', train=True, download=True, transform=transform_train)\n",
        "trainloader = torch.utils.data.DataLoader(trainset, batch_size=128, shuffle=True, num_workers=2)\n",
        "\n",
        "testset = torchvision.datasets.CIFAR10(root='./data', train=False, download=True, transform=transform_test)\n",
        "testloader = torch.utils.data.DataLoader(testset, batch_size=100, shuffle=False, num_workers=2)\n",
        "\n",
        "# Définir les classes CIFAR-10\n",
        "classes = ('plane', 'car', 'bird', 'cat', 'deer', 'dog', 'frog', 'horse', 'ship', 'truck')\n",
        "\n",
        "# Déplacer le modèle vers le GPU\n",
        "device = torch.device(\"cuda:0\" if torch.cuda.is_available() else \"cpu\")"
      ]
    },
    {
      "cell_type": "code",
      "source": [
        "# Définir la méthode d'entraînement\n",
        "def train_model(model, criterion, optimizer, scheduler, num_epochs=25):\n",
        "    since = time.time()\n",
        "\n",
        "    for epoch in range(num_epochs):\n",
        "        model.train()\n",
        "        running_loss = 0.0\n",
        "        running_corrects = 0\n",
        "\n",
        "        for inputs, labels in trainloader:\n",
        "            inputs = inputs.to(device)\n",
        "            labels = labels.to(device)\n",
        "\n",
        "            optimizer.zero_grad()\n",
        "\n",
        "            outputs = model(inputs)\n",
        "            loss = criterion(outputs, labels)\n",
        "            loss.backward()\n",
        "            optimizer.step()\n",
        "\n",
        "            running_loss += loss.item() * inputs.size(0)\n",
        "            _, preds = torch.max(outputs, 1)\n",
        "            running_corrects += torch.sum(preds == labels.data)\n",
        "\n",
        "        scheduler.step()\n",
        "\n",
        "        epoch_loss = running_loss / len(trainloader.dataset)\n",
        "        epoch_acc = running_corrects.double() / len(trainloader.dataset)\n",
        "\n",
        "        print(f'Epoch {epoch}/{num_epochs - 1} Loss: {epoch_loss:.4f} Acc: {epoch_acc:.4f}')\n",
        "\n",
        "    time_elapsed = time.time() - since\n",
        "    print(f'Training complete in {time_elapsed // 60:.0f}m {time_elapsed % 60:.0f}s')\n",
        "\n",
        "    return model, time_elapsed, num_epochs"
      ],
      "metadata": {
        "id": "vOTRi5tbg5cX"
      },
      "execution_count": 4,
      "outputs": []
    },
    {
      "cell_type": "code",
      "source": [
        "def evaluate_model(model):\n",
        "    model.eval()\n",
        "    correct = 0\n",
        "    total = 0\n",
        "    start_time = time.time()\n",
        "\n",
        "    with torch.no_grad():\n",
        "        for inputs, labels in testloader:\n",
        "            inputs = inputs.to(device)\n",
        "            labels = labels.to(device)\n",
        "            outputs = model(inputs)\n",
        "            _, predicted = torch.max(outputs.data, 1)\n",
        "            total += labels.size(0)\n",
        "            correct += (predicted == labels).sum().item()\n",
        "\n",
        "    accuracy = 100 * correct / total\n",
        "    elapsed_time = time.time() - start_time\n",
        "    print(f'Accuracy: {accuracy}%')\n",
        "    print(f'Evaluation Time: {elapsed_time:.2f} seconds')\n",
        "    return accuracy, elapsed_time"
      ],
      "metadata": {
        "id": "LrtXEPAhg_Ah"
      },
      "execution_count": 3,
      "outputs": []
    },
    {
      "cell_type": "code",
      "source": [
        "# 1. CNN1 Feature Extraction\n",
        "model_vgg_feat = models.vgg16(pretrained=True)\n",
        "for param in model_vgg_feat.parameters():\n",
        "    param.requires_grad = False\n",
        "model_vgg_feat.classifier[6] = nn.Linear(model_vgg_feat.classifier[6].in_features, 10)\n",
        "model_vgg_feat = model_vgg_feat.to(device)\n",
        "\n",
        "criterion = nn.CrossEntropyLoss()\n",
        "optimizer_vgg_feat = optim.SGD(model_vgg_feat.classifier[6].parameters(), lr=0.001, momentum=0.9)\n",
        "scheduler_vgg_feat = lr_scheduler.StepLR(optimizer_vgg_feat, step_size=7, gamma=0.1)\n",
        "\n",
        "# Entrainement du modèle\n",
        "model_vgg_feat, time_vgg_feat_train, epochs_vgg_feat = train_model(model_vgg_feat, criterion, optimizer_vgg_feat, scheduler_vgg_feat)\n",
        "accuracy_vgg_feat, time_vgg_feat_eval = evaluate_model(model_vgg_feat)\n",
        "\n",
        "# 2. CNN1 Fine-tuning\n",
        "model_vgg_finetune = models.vgg16(pretrained=True)\n",
        "model_vgg_finetune.classifier[6] = nn.Linear(model_vgg_finetune.classifier[6].in_features, 10)\n",
        "model_vgg_finetune = model_vgg_finetune.to(device)\n",
        "\n",
        "optimizer_vgg_finetune = optim.SGD(model_vgg_finetune.parameters(), lr=0.001, momentum=0.9)\n",
        "scheduler_vgg_finetune = lr_scheduler.StepLR(optimizer_vgg_finetune, step_size=7, gamma=0.1)\n",
        "\n",
        "# Entrainement du modèle\n",
        "model_vgg_finetune, time_vgg_finetune_train, epochs_vgg_finetune = train_model(model_vgg_finetune, criterion, optimizer_vgg_finetune, scheduler_vgg_finetune)\n",
        "accuracy_vgg_finetune, time_vgg_finetune_eval = evaluate_model(model_vgg_finetune)\n",
        "\n",
        "# 3. CNN2 Feature Extraction\n",
        "model_resnet_feat = models.resnet18(pretrained=True)\n",
        "for param in model_resnet_feat.parameters():\n",
        "    param.requires_grad = False\n",
        "num_ftrs = model_resnet_feat.fc.in_features\n",
        "model_resnet_feat.fc = nn.Linear(num_ftrs, 10)\n",
        "model_resnet_feat = model_resnet_feat.to(device)\n",
        "\n",
        "optimizer_resnet_feat = optim.SGD(model_resnet_feat.fc.parameters(), lr=0.001, momentum=0.9)\n",
        "scheduler_resnet_feat = lr_scheduler.StepLR(optimizer_resnet_feat, step_size=7, gamma=0.1)\n",
        "\n",
        "# Entrainement du modèle\n",
        "model_resnet_feat, time_resnet_feat_train, epochs_resnet_feat = train_model(model_resnet_feat, criterion, optimizer_resnet_feat, scheduler_resnet_feat)\n",
        "accuracy_resnet_feat, time_resnet_feat_eval = evaluate_model(model_resnet_feat)\n",
        "\n",
        "# 4. CNN2 Fine-tuning\n",
        "model_resnet_finetune = models.resnet18(pretrained=True)\n",
        "num_ftrs = model_resnet_finetune.fc.in_features\n",
        "model_resnet_finetune.fc = nn.Linear(num_ftrs, 10)\n",
        "model_resnet_finetune = model_resnet_finetune.to(device)\n",
        "\n",
        "optimizer_resnet_finetune = optim.SGD(model_resnet_finetune.parameters(), lr=0.001, momentum=0.9)\n",
        "scheduler_resnet_finetune = lr_scheduler.StepLR(optimizer_resnet_finetune, step_size=7, gamma=0.1)\n",
        "\n",
        "# Entraîner du modèle\n",
        "model_resnet_finetune, time_resnet_finetune_train, epochs_resnet_finetune = train_model(model_resnet_finetune, criterion, optimizer_resnet_finetune, scheduler_resnet_finetune)\n",
        "accuracy_resnet_finetune, time_resnet_finetune_eval = evaluate_model(model_resnet_finetune)"
      ],
      "metadata": {
        "id": "9rXk0QNpg8jn",
        "outputId": "d35e5b36-a6d2-4d5f-f02c-6d0971180a88",
        "colab": {
          "base_uri": "https://localhost:8080/"
        }
      },
      "execution_count": 5,
      "outputs": [
        {
          "metadata": {
            "tags": null
          },
          "name": "stderr",
          "output_type": "stream",
          "text": [
            "/usr/local/lib/python3.10/dist-packages/torchvision/models/_utils.py:208: UserWarning: The parameter 'pretrained' is deprecated since 0.13 and may be removed in the future, please use 'weights' instead.\n",
            "  warnings.warn(\n",
            "/usr/local/lib/python3.10/dist-packages/torchvision/models/_utils.py:223: UserWarning: Arguments other than a weight enum or `None` for 'weights' are deprecated since 0.13 and may be removed in the future. The current behavior is equivalent to passing `weights=VGG16_Weights.IMAGENET1K_V1`. You can also use `weights=VGG16_Weights.DEFAULT` to get the most up-to-date weights.\n",
            "  warnings.warn(msg)\n",
            "Downloading: \"https://download.pytorch.org/models/vgg16-397923af.pth\" to /root/.cache/torch/hub/checkpoints/vgg16-397923af.pth\n",
            "100%|██████████| 528M/528M [00:05<00:00, 97.4MB/s]\n"
          ]
        },
        {
          "metadata": {
            "tags": null
          },
          "name": "stdout",
          "output_type": "stream",
          "text": [
            "Epoch 0/24 Loss: 1.5794 Acc: 0.4460\n",
            "Epoch 1/24 Loss: 1.4673 Acc: 0.4868\n",
            "Epoch 2/24 Loss: 1.4466 Acc: 0.4924\n",
            "Epoch 3/24 Loss: 1.4336 Acc: 0.4961\n",
            "Epoch 4/24 Loss: 1.4240 Acc: 0.4984\n",
            "Epoch 5/24 Loss: 1.4271 Acc: 0.4976\n",
            "Epoch 6/24 Loss: 1.4228 Acc: 0.5011\n",
            "Epoch 7/24 Loss: 1.3678 Acc: 0.5137\n",
            "Epoch 8/24 Loss: 1.3465 Acc: 0.5236\n",
            "Epoch 9/24 Loss: 1.3388 Acc: 0.5243\n",
            "Epoch 10/24 Loss: 1.3327 Acc: 0.5265\n",
            "Epoch 11/24 Loss: 1.3250 Acc: 0.5267\n",
            "Epoch 12/24 Loss: 1.3156 Acc: 0.5312\n",
            "Epoch 13/24 Loss: 1.3157 Acc: 0.5297\n",
            "Epoch 14/24 Loss: 1.3060 Acc: 0.5342\n",
            "Epoch 15/24 Loss: 1.3041 Acc: 0.5366\n",
            "Epoch 16/24 Loss: 1.3034 Acc: 0.5346\n",
            "Epoch 17/24 Loss: 1.3079 Acc: 0.5335\n",
            "Epoch 18/24 Loss: 1.3029 Acc: 0.5367\n",
            "Epoch 19/24 Loss: 1.3024 Acc: 0.5348\n",
            "Epoch 20/24 Loss: 1.3038 Acc: 0.5354\n",
            "Epoch 21/24 Loss: 1.3065 Acc: 0.5326\n",
            "Epoch 22/24 Loss: 1.3011 Acc: 0.5368\n",
            "Epoch 23/24 Loss: 1.3022 Acc: 0.5346\n",
            "Epoch 24/24 Loss: 1.3097 Acc: 0.5303\n",
            "Training complete in 9m 13s\n",
            "Accuracy: 60.13%\n",
            "Evaluation Time: 3.18 seconds\n",
            "Epoch 0/24 Loss: 0.9835 Acc: 0.6537\n",
            "Epoch 1/24 Loss: 0.6121 Acc: 0.7894\n",
            "Epoch 2/24 Loss: 0.5244 Acc: 0.8190\n",
            "Epoch 3/24 Loss: 0.4670 Acc: 0.8389\n",
            "Epoch 4/24 Loss: 0.4263 Acc: 0.8520\n",
            "Epoch 5/24 Loss: 0.3872 Acc: 0.8669\n",
            "Epoch 6/24 Loss: 0.3652 Acc: 0.8743\n",
            "Epoch 7/24 Loss: 0.3105 Acc: 0.8924\n",
            "Epoch 8/24 Loss: 0.3083 Acc: 0.8941\n",
            "Epoch 9/24 Loss: 0.2979 Acc: 0.8958\n",
            "Epoch 10/24 Loss: 0.2971 Acc: 0.8974\n",
            "Epoch 11/24 Loss: 0.2923 Acc: 0.8975\n",
            "Epoch 12/24 Loss: 0.2883 Acc: 0.8995\n",
            "Epoch 13/24 Loss: 0.2864 Acc: 0.9001\n",
            "Epoch 14/24 Loss: 0.2807 Acc: 0.9028\n",
            "Epoch 15/24 Loss: 0.2802 Acc: 0.9026\n",
            "Epoch 16/24 Loss: 0.2792 Acc: 0.9031\n",
            "Epoch 17/24 Loss: 0.2818 Acc: 0.9008\n",
            "Epoch 18/24 Loss: 0.2816 Acc: 0.9006\n",
            "Epoch 19/24 Loss: 0.2815 Acc: 0.9027\n",
            "Epoch 20/24 Loss: 0.2801 Acc: 0.9022\n",
            "Epoch 21/24 Loss: 0.2786 Acc: 0.9023\n",
            "Epoch 22/24 Loss: 0.2806 Acc: 0.9027\n",
            "Epoch 23/24 Loss: 0.2808 Acc: 0.9016\n",
            "Epoch 24/24 Loss: 0.2823 Acc: 0.9018\n",
            "Training complete in 15m 51s\n",
            "Accuracy: 87.64%\n",
            "Evaluation Time: 3.15 seconds\n"
          ]
        },
        {
          "metadata": {
            "tags": null
          },
          "name": "stderr",
          "output_type": "stream",
          "text": [
            "/usr/local/lib/python3.10/dist-packages/torchvision/models/_utils.py:223: UserWarning: Arguments other than a weight enum or `None` for 'weights' are deprecated since 0.13 and may be removed in the future. The current behavior is equivalent to passing `weights=ResNet18_Weights.IMAGENET1K_V1`. You can also use `weights=ResNet18_Weights.DEFAULT` to get the most up-to-date weights.\n",
            "  warnings.warn(msg)\n",
            "Downloading: \"https://download.pytorch.org/models/resnet18-f37072fd.pth\" to /root/.cache/torch/hub/checkpoints/resnet18-f37072fd.pth\n",
            "100%|██████████| 44.7M/44.7M [00:00<00:00, 212MB/s]\n"
          ]
        },
        {
          "output_type": "stream",
          "name": "stdout",
          "text": [
            "Epoch 0/24 Loss: 1.9519 Acc: 0.3082\n",
            "Epoch 1/24 Loss: 1.7503 Acc: 0.3852\n",
            "Epoch 2/24 Loss: 1.7089 Acc: 0.4028\n",
            "Epoch 3/24 Loss: 1.6875 Acc: 0.4132\n",
            "Epoch 4/24 Loss: 1.6787 Acc: 0.4134\n",
            "Epoch 5/24 Loss: 1.6697 Acc: 0.4142\n",
            "Epoch 6/24 Loss: 1.6632 Acc: 0.4198\n",
            "Epoch 7/24 Loss: 1.6503 Acc: 0.4244\n",
            "Epoch 8/24 Loss: 1.6515 Acc: 0.4203\n",
            "Epoch 9/24 Loss: 1.6519 Acc: 0.4231\n",
            "Epoch 10/24 Loss: 1.6493 Acc: 0.4239\n",
            "Epoch 11/24 Loss: 1.6445 Acc: 0.4246\n",
            "Epoch 12/24 Loss: 1.6429 Acc: 0.4295\n",
            "Epoch 13/24 Loss: 1.6491 Acc: 0.4259\n",
            "Epoch 14/24 Loss: 1.6419 Acc: 0.4295\n",
            "Epoch 15/24 Loss: 1.6464 Acc: 0.4263\n",
            "Epoch 16/24 Loss: 1.6402 Acc: 0.4301\n",
            "Epoch 17/24 Loss: 1.6486 Acc: 0.4258\n",
            "Epoch 18/24 Loss: 1.6504 Acc: 0.4250\n",
            "Epoch 19/24 Loss: 1.6471 Acc: 0.4276\n",
            "Epoch 20/24 Loss: 1.6394 Acc: 0.4281\n",
            "Epoch 21/24 Loss: 1.6543 Acc: 0.4267\n",
            "Epoch 22/24 Loss: 1.6422 Acc: 0.4301\n",
            "Epoch 23/24 Loss: 1.6406 Acc: 0.4279\n",
            "Epoch 24/24 Loss: 1.6442 Acc: 0.4268\n",
            "Training complete in 8m 22s\n",
            "Accuracy: 41.96%\n",
            "Evaluation Time: 2.73 seconds\n",
            "Epoch 0/24 Loss: 1.2973 Acc: 0.5446\n",
            "Epoch 1/24 Loss: 0.8912 Acc: 0.6861\n",
            "Epoch 2/24 Loss: 0.7648 Acc: 0.7331\n",
            "Epoch 3/24 Loss: 0.6933 Acc: 0.7568\n",
            "Epoch 4/24 Loss: 0.6375 Acc: 0.7785\n",
            "Epoch 5/24 Loss: 0.5965 Acc: 0.7912\n",
            "Epoch 6/24 Loss: 0.5618 Acc: 0.8033\n",
            "Epoch 7/24 Loss: 0.5212 Acc: 0.8180\n",
            "Epoch 8/24 Loss: 0.5115 Acc: 0.8217\n",
            "Epoch 9/24 Loss: 0.5070 Acc: 0.8217\n",
            "Epoch 10/24 Loss: 0.4992 Acc: 0.8265\n",
            "Epoch 11/24 Loss: 0.4932 Acc: 0.8273\n",
            "Epoch 12/24 Loss: 0.4900 Acc: 0.8300\n",
            "Epoch 13/24 Loss: 0.4850 Acc: 0.8283\n",
            "Epoch 14/24 Loss: 0.4849 Acc: 0.8290\n",
            "Epoch 15/24 Loss: 0.4809 Acc: 0.8306\n",
            "Epoch 16/24 Loss: 0.4823 Acc: 0.8306\n",
            "Epoch 17/24 Loss: 0.4795 Acc: 0.8308\n",
            "Epoch 18/24 Loss: 0.4791 Acc: 0.8309\n",
            "Epoch 19/24 Loss: 0.4805 Acc: 0.8314\n",
            "Epoch 20/24 Loss: 0.4835 Acc: 0.8296\n",
            "Epoch 21/24 Loss: 0.4761 Acc: 0.8351\n",
            "Epoch 22/24 Loss: 0.4786 Acc: 0.8324\n",
            "Epoch 23/24 Loss: 0.4788 Acc: 0.8324\n",
            "Epoch 24/24 Loss: 0.4790 Acc: 0.8320\n",
            "Training complete in 9m 40s\n",
            "Accuracy: 80.76%\n",
            "Evaluation Time: 2.57 seconds\n"
          ]
        }
      ]
    },
    {
      "cell_type": "code",
      "source": [
        "# Tableau comparatif des résultats\n",
        "data = {\n",
        "    \"Approach\": [\"From Scratch\", \"Feature Extraction\", \"Fine-tuning\", \"Feature Extraction\", \"Fine-tuning\"],\n",
        "    \"Model\": [\"Scratch\", \"CNN1\", \"CNN1\", \"CNN2\", \"CNN2\"],\n",
        "    \"Accuracy\": [accuracy_scratch, accuracy_vgg_feat, accuracy_vgg_finetune, accuracy_resnet_feat, accuracy_resnet_finetune],\n",
        "    \"Training Time (s)\": [time_scratch_train, time_vgg_feat_train, time_vgg_finetune_train, time_resnet_feat_train, time_resnet_finetune_train],\n",
        "    \"Epochs\": [epochs_scratch, epochs_vgg_feat, epochs_vgg_finetune, epochs_resnet_feat, epochs_resnet_finetune]\n",
        "}\n",
        "\n",
        "df = pd.DataFrame(data)\n",
        "print(df)"
      ],
      "metadata": {
        "id": "v6_mfr7_hA1X",
        "outputId": "83793466-f52c-411b-ebe8-b7198bdd4962",
        "colab": {
          "base_uri": "https://localhost:8080/"
        }
      },
      "execution_count": 31,
      "outputs": [
        {
          "output_type": "stream",
          "name": "stdout",
          "text": [
            "             Approach    Model  Accuracy  Training Time (s)  Epochs\n",
            "0        From Scratch  Scratch    0.6042         425.950949      20\n",
            "1  Feature Extraction     CNN1   60.1300         552.796833      25\n",
            "2         Fine-tuning     CNN1   87.6400         951.386491      25\n",
            "3  Feature Extraction     CNN2   41.9600         502.167171      25\n",
            "4         Fine-tuning     CNN2   80.7600         580.011731      25\n"
          ]
        }
      ]
    }
  ],
  "metadata": {
    "accelerator": "GPU",
    "anaconda-cloud": {},
    "colab": {
      "gpuType": "T4",
      "provenance": [],
      "toc_visible": true
    },
    "kernelspec": {
      "display_name": "Python 3",
      "name": "python3"
    },
    "language_info": {
      "codemirror_mode": {
        "name": "ipython",
        "version": 3
      },
      "file_extension": ".py",
      "mimetype": "text/x-python",
      "name": "python",
      "nbconvert_exporter": "python",
      "pygments_lexer": "ipython3",
      "version": "3.12.1"
    }
  },
  "nbformat": 4,
  "nbformat_minor": 0
}